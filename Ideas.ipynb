{
 "cells": [
  {
   "cell_type": "markdown",
   "metadata": {},
   "source": [
    "# Extract frames from videos"
   ]
  },
  {
   "cell_type": "code",
   "execution_count": 2,
   "metadata": {},
   "outputs": [
    {
     "name": "stdout",
     "output_type": "stream",
     "text": [
      "the number of frames: 1824\n",
      "Totally save 183 imgs\n",
      "Frames per second using video.get(cv2.CAP_PROP_FPS) : 29.97002997002997\n"
     ]
    }
   ],
   "source": [
    "# coding=utf-8\n",
    "# 使用OpenCV视频中提取帧图片并保存(cv2.VideoCapture)\n",
    "import os\n",
    "import cv2\n",
    "import shutil\n",
    "import time\n",
    "\n",
    "# 全局变量\n",
    "VIDEO_PATH = 'assets/20230101_000613_vflip.MP4'  # 视频地址\n",
    "EXTRACT_FOLDER = 'assets'  # 存放帧图片的位置\n",
    "EXTRACT_FREQUENCY = 10  # 帧提取频率\n",
    "\n",
    "\n",
    "# 主操作\n",
    "def extract_frames(video_path, dst_folder, index):\n",
    "    # 实例化视频对象\n",
    "    video = cv2.VideoCapture(video_path)\n",
    "    frame_count = 0\n",
    "\n",
    "    # 循环遍历视频中的所有帧\n",
    "    while True:\n",
    "        # 逐帧读取\n",
    "        _, frame = video.read()\n",
    "        if frame is None:\n",
    "            break\n",
    "        # 按照设置的频率保存图片\n",
    "        if frame_count % EXTRACT_FREQUENCY == 0:\n",
    "            # 设置保存文件名\n",
    "            save_path = \"{}/{:>03d}.jpg\".format(dst_folder, index)\n",
    "            # 保存图片\n",
    "            cv2.imwrite(save_path, frame)\n",
    "            index += 1  # 保存图片数＋1\n",
    "        frame_count += 1  # 读取视频帧数＋1\n",
    "\n",
    "    # 视频总帧数\n",
    "    print(f'the number of frames: {frame_count}')\n",
    "    # 打印出所提取图片的总数\n",
    "    print(f\"Totally save {(index - 1):d} imgs\")\n",
    "\n",
    "    # 计算FPS 方法一 get()\n",
    "    (major_ver, minor_ver, subminor_ver) = (cv2.__version__).split('.')  # Find OpenCV version\n",
    "    # (major_ver, minor_ver, subminor_ver) = (4, 5, 4)\n",
    "    if int(major_ver) < 3:\n",
    "        fps = video.get(cv2.cv.CV_CAP_PROP_FPS)  # 获取当前版本opencv的FPS\n",
    "        print(\"Frames per second using video.get(cv2.cv.CV_CAP_PROP_FPS): {0}\".format(fps))\n",
    "    else:\n",
    "        fps = video.get(cv2.CAP_PROP_FPS)  # 获取当前版本opencv的FPS\n",
    "        print(\"Frames per second using video.get(cv2.CAP_PROP_FPS) : {0}\".format(fps))\n",
    "\n",
    "    # 最后释放掉实例化的视频\n",
    "    video.release()\n",
    "\n",
    "\n",
    "def main():\n",
    "    # 递归删除之前存放帧图片的文件夹，并新建一个\n",
    "    try:\n",
    "        shutil.rmtree(EXTRACT_FOLDER)\n",
    "    except OSError:\n",
    "        pass\n",
    "\n",
    "    current_time = time.localtime()\n",
    "    save_folder = os.path.join(\n",
    "        EXTRACT_FOLDER, time.strftime(\"%Y_%m_%d_%H_%M_%S\", current_time)\n",
    "    )\n",
    "    os.makedirs(save_folder, exist_ok=True)\n",
    "    # 抽取帧图片，并保存到指定路径\n",
    "    extract_frames(VIDEO_PATH, save_folder, 1)\n",
    "\n",
    "\n",
    "if __name__ == '__main__':\n",
    "    main()"
   ]
  },
  {
   "cell_type": "markdown",
   "metadata": {},
   "source": [
    "# Crop Slices"
   ]
  },
  {
   "cell_type": "code",
   "execution_count": null,
   "metadata": {},
   "outputs": [],
   "source": [
    "import cv2\n",
    "\n",
    "img = cv2.imread(\"assets/test_frames/001.jpg\")\n",
    "\n",
    "# # 防止键盘事件导致中断\n",
    "# while True:\n",
    "\n",
    "#     cv2.imshow('img', img)\n",
    "\n",
    "#     key = cv2.waitKey(0)\n",
    "\n",
    "#     if(key & 0xFF == ord('q')):\n",
    "#         break\n",
    "#     elif(key & 0xFF == ord('s')):\n",
    "#         cv2.imwrite(\"outputs_imgs/outputs_slices/save.jpg\", img)\n",
    "#     else:\n",
    "#         print(key)\n",
    "\n",
    "# cv2.destroyAllWindows()\n",
    "\n",
    "height = img.shape[0]\n",
    "width = img.shape[1]\n",
    "print(\"Image height is \", height, \" and width is \", width)\n",
    "stride = 64\n",
    "slice_size = (320, 320)\n",
    "print(\"Crop height is \", slice_size[0], \" and width is \", slice_size[1])\n",
    "\n",
    "count = 1\n",
    "for y in range(0, height, stride):\n",
    "    for x in range(0, width, stride):\n",
    "        box = (x, y, x + slice_size[0], y + slice_size[1])\n",
    "        slice_img = img[y:y + slice_size[1], x:x + slice_size[0]]\n",
    "        \n",
    "        crop_height_actual, crop_width_actual = slice_img.shape[:2]\n",
    "        if crop_height_actual < slice_size[0] or crop_width_actual < slice_size[1]:\n",
    "            continue\n",
    "\n",
    "        # 保存裁剪后的图像\n",
    "        cv2.imwrite('outputs_imgs/outputs_slices/cropped_image_{}.jpg'.format(count), slice_img)\n",
    "        print(\"裁剪后的图像 {}.jpg 已保存。\".format(count))\n",
    "        count += 1\n",
    "        # cropped_image = img[64:320+64, 64:320+64]\n",
    "        # cv2.imwrite('outputs_imgs/outputs_slices/cropped_image_1.jpg', cropped_image)\n",
    "        # print(\"Slice img width is \", slice_img.shape[0], \" and height is \", slice_img.shape[1])\n",
    "        # if slice_img.shape[0] == 320 and slice_img.shape[1] == 320:\n",
    "        #     cv2.imwrite(\"outputs_imgs/outputs_slices\", slice_img)\n",
    "#             cv2.namedWindow(\"Cropped images\", cv2.WINDOW_NORMAL)\n",
    "#             cv2.resizeWindow(\"Cropped images\", 800, 600)\n",
    "#             cv2.imshow(\"Cropped image \", slice_img)\n",
    "#             cv2.waitKey(10)\n",
    "# cv2.destroyAllWindows()"
   ]
  },
  {
   "cell_type": "markdown",
   "metadata": {},
   "source": []
  },
  {
   "cell_type": "code",
   "execution_count": null,
   "metadata": {},
   "outputs": [],
   "source": [
    "import cv2\n",
    "\n",
    "# 加载图像\n",
    "image = cv2.imread('assets/test_frames/001.jpg')\n",
    "\n",
    "# 定义裁剪尺寸\n",
    "crop_width, crop_height = 320, 320\n",
    "\n",
    "# 定义裁剪步长\n",
    "step_x, step_y = 64, 64\n",
    "\n",
    "# 获取图像尺寸\n",
    "image_height, image_width = image.shape[:2]\n",
    "\n",
    "# 循环裁剪并保存\n",
    "count = 1\n",
    "for y in range(0, image_height, step_y):\n",
    "    for x in range(0, image_width, step_x):\n",
    "        # 裁剪图像\n",
    "        crop = image[y:y+crop_height, x:x+crop_width]\n",
    "\n",
    "        # 确保裁剪区域不超出图像边界\n",
    "        crop_height_actual, crop_width_actual = crop.shape[:2]\n",
    "        if crop_height_actual < crop_height or crop_width_actual < crop_width:\n",
    "            continue\n",
    "\n",
    "        # 保存裁剪后的图像\n",
    "        cv2.imwrite('outputs_imgs/outputs_slices/cropped_image_{}.jpg'.format(count), crop)\n",
    "        print(\"裁剪后的图像 {}.jpg 已保存。\".format(count))\n",
    "\n",
    "        count += 1\n"
   ]
  },
  {
   "cell_type": "markdown",
   "metadata": {},
   "source": [
    "# 对不同地址的同一张图像测试"
   ]
  },
  {
   "cell_type": "code",
   "execution_count": 1,
   "metadata": {},
   "outputs": [],
   "source": [
    "import cv2\n",
    "\n",
    "frame = cv2.imread('assets/001.jpg')\n",
    "\n",
    "height, width = frame.shape[:2]\n",
    "\n",
    "frame_1 = frame[height-320:height, width-320:width]\n",
    "cv2.namedWindow(\"test\", cv2.WINDOW_NORMAL);\n",
    "cv2.resizeWindow('window',800,600)#更改窗口的大小\n",
    "\n",
    "cv2.imshow('test', frame_1)\n",
    "cv2.waitKey(0)\n",
    "cv2.destroyAllWindows()\n"
   ]
  },
  {
   "cell_type": "markdown",
   "metadata": {},
   "source": [
    "# 测试NMS"
   ]
  },
  {
   "cell_type": "code",
   "execution_count": 1,
   "metadata": {},
   "outputs": [
    {
     "name": "stdout",
     "output_type": "stream",
     "text": [
      "[12321. 29241. 11211.  9191.  8736. 10656.]\n"
     ]
    },
    {
     "data": {
      "image/png": "[encoded data removed]",
      "text/plain": [
       "<Figure size 640x480 with 2 Axes>"
      ]
     },
     "metadata": {},
     "output_type": "display_data"
    }
   ],
   "source": [
    "import numpy as np\n",
    "import matplotlib.pyplot as plt\n",
    "\n",
    "boxes=np.array([[100,100,210,210,0.72],\n",
    "        [250,250,420,420,0.8],\n",
    "        [220,220,320,330,0.92],\n",
    "        [100,100,190,200,0.71],\n",
    "        [230,240,325,330,0.81],\n",
    "        [220,230,315,340,0.9]]) \n",
    " \n",
    " \n",
    "def py_cpu_nms(dets, thresh):\n",
    "    \"Pure Python NMS baseline\"\n",
    "    # x1、y1、x2、y2以及score赋值\n",
    "    x1 = dets[:,0]\n",
    "    y1 = dets[:,1]\n",
    "    x2 = dets[:,2]\n",
    "    y2 = dets[:,3]\n",
    "    scores = dets[:, 4]\n",
    "\n",
    "    # 每一个检测框的面积\n",
    "    areas = (y2-y1+1) * (x2-x1+1)\n",
    "    print(areas)\n",
    "    # 按照score置信度降序排序\n",
    "    order = scores.argsort()[::-1]\n",
    "\n",
    "    keep = [] # 保留的结果框集合\n",
    "    while order.size >0:\n",
    "        i = order[0]       # every time the first is the biggst, and add it directly\n",
    "        keep.append(i) # 保留该类剩余box中得分最高的一个\n",
    "        # 得到相交区域,左上及右下\n",
    "        xx1 = np.maximum(x1[i], x1[order[1:]])\n",
    "        yy1 = np.maximum(y1[i], y1[order[1:]])\n",
    "        xx2 = np.minimum(x2[i], x2[order[1:]])\n",
    "        yy2 = np.minimum(y2[i], y2[order[1:]])\n",
    "\n",
    "        # 计算相交的面积,不重叠时面积为0\n",
    "        w = np.maximum(0, xx2-xx1+1)    # the weights of overlap\n",
    "        h = np.maximum(0, yy2-yy1+1)    # the height of overlap\n",
    "        inter = w*h\n",
    "        # 计算IoU：重叠面积 /（面积1+面积2-重叠面积）\n",
    "        ovr = inter / (areas[i]+areas[order[1:]] - inter)\n",
    "        # 保留IoU小于阈值的box\n",
    "        indx = np.where(ovr<=thresh)[0]\n",
    "        order = order[indx+1]   # 因为ovr数组的长度比order数组少一个,所以这里要将所有下标后移一位\n",
    "\n",
    "    return keep\n",
    "        \n",
    " \n",
    "\n",
    "def plot_bbox(dets, c='k'):\n",
    "    x1 = dets[:,0]\n",
    "    y1 = dets[:,1]\n",
    "    x2 = dets[:,2]\n",
    "    y2 = dets[:,3]\n",
    "    \n",
    "    plt.plot([x1,x2], [y1,y1], c)\n",
    "    plt.plot([x1,x1], [y1,y2], c)\n",
    "    plt.plot([x1,x2], [y2,y2], c)\n",
    "    plt.plot([x2,x2], [y1,y2], c)\n",
    "    #plt.title(\" nms\")\n",
    "    #plt.show()\n",
    "\n",
    "plt.figure(1)\n",
    "ax1 = plt.subplot(1,2,1)\n",
    "ax1.set_title('before nms')\n",
    "ax2 = plt.subplot(1,2,2)\n",
    "ax2.set_title('after nms')\n",
    " \n",
    "plt.sca(ax1)\n",
    "plot_bbox(boxes,'k')   # before nms\n",
    "\n",
    "keep = py_cpu_nms(boxes, thresh=0.7)\n",
    "plt.sca(ax2)\n",
    "plot_bbox(boxes[keep], 'b')# after nms\n",
    "plt.show()\n"
   ]
  },
  {
   "cell_type": "markdown",
   "metadata": {},
   "source": [
    "# 计算模型的参数量和计算量"
   ]
  },
  {
   "cell_type": "code",
   "execution_count": 6,
   "metadata": {},
   "outputs": [
    {
     "data": {
      "text/plain": [
       "torch.Size([1, 32, 320, 320])"
      ]
     },
     "execution_count": 6,
     "metadata": {},
     "output_type": "execute_result"
    }
   ],
   "source": [
    "from torchstat import stat\n",
    "import torchvision.models as models\n",
    "import torch.nn as nn\n",
    "import torch\n",
    "\n",
    "# With square kernels and equal stride\n",
    "m = nn.Conv2d(16, 33, 3, stride=2)\n",
    "# non-square kernels and unequal stride and with padding\n",
    "m = nn.Conv2d(12, 32, (3, 3), stride=(1, 1), padding=(1, 1))\n",
    "# non-square kernels and unequal stride and with padding and dilation\n",
    "# m = nn.Conv2d(12, 32, (3, 3), stride=(1, 1), padding=(1, 1), dilation=(3, 1))\n",
    "input = torch.randn(1, 12, 320, 320)\n",
    "output = m(input)\n",
    "output.shape"
   ]
  },
  {
   "cell_type": "code",
   "execution_count": null,
   "metadata": {},
   "outputs": [],
   "source": [
    "from torchstat import stat\n",
    "import torchvision.models as models\n",
    "import torch\n",
    "from torchinfo import summary\n",
    "\n",
    "model = models.vgg16()\n",
    "\n",
    "# stat(model, (3, 224, 224))\n",
    "# summary(model, input_size=(1, 3, 64, 64))"
   ]
  },
  {
   "cell_type": "code",
   "execution_count": 17,
   "metadata": {},
   "outputs": [
    {
     "data": {
      "text/plain": [
       "tensor([[[[1., 1., 2., 2.],\n",
       "          [1., 1., 2., 2.],\n",
       "          [3., 3., 4., 4.],\n",
       "          [3., 3., 4., 4.]],\n",
       "\n",
       "         [[5., 5., 6., 6.],\n",
       "          [5., 5., 6., 6.],\n",
       "          [7., 7., 8., 8.],\n",
       "          [7., 7., 8., 8.]]]])"
      ]
     },
     "execution_count": 17,
     "metadata": {},
     "output_type": "execute_result"
    }
   ],
   "source": [
    "import torch.nn as nn\n",
    "import torch\n",
    "\n",
    "input = torch.arange(1, 9, dtype=torch.float32).view(1, 2, 2, 2)\n",
    "\n",
    "m = nn.Upsample(scale_factor=2, mode='nearest')\n",
    "m(input)"
   ]
  }
 ],
 "metadata": {
  "kernelspec": {
   "display_name": "pt39",
   "language": "python",
   "name": "python3"
  },
  "language_info": {
   "codemirror_mode": {
    "name": "ipython",
    "version": 3
   },
   "file_extension": ".py",
   "mimetype": "text/x-python",
   "name": "python",
   "nbconvert_exporter": "python",
   "pygments_lexer": "ipython3",
   "version": "3.9.19"
  }
 },
 "nbformat": 4,
 "nbformat_minor": 2
}
